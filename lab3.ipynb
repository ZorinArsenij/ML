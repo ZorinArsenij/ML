{
 "cells": [
  {
   "cell_type": "markdown",
   "metadata": {},
   "source": [
    "# Цель лабораторной работы\n",
    "Изучить способы предварительной обработки данных для дальнейшего формирования моделей.\n",
    "\n",
    "# Задание\n",
    "Выбрать набор данных (датасет), содержащий категориальные признаки и пропуски в данных. Для выполнения следующих пунктов можно использовать несколько различных наборов данных (один для обработки пропусков, другой для категориальных признаков и т.д.)\n",
    "\n",
    "Для выбранного датасета (датасетов) на основе материалов лекции решить следующие задачи:\n",
    "- обработку пропусков в данных;\n",
    "- кодирование категориальных признаков;\n",
    "- масштабирование данных."
   ]
  },
  {
   "cell_type": "code",
   "execution_count": 43,
   "metadata": {},
   "outputs": [],
   "source": [
    "import numpy as np\n",
    "import pandas as pd\n",
    "import seaborn as sns\n",
    "import matplotlib.pyplot as plt\n",
    "%matplotlib inline\n",
    "sns.set(style=\"ticks\")"
   ]
  },
  {
   "cell_type": "code",
   "execution_count": 44,
   "metadata": {},
   "outputs": [],
   "source": [
    "data = pd.read_csv('nyc-jobs.csv', sep=\",\")\n",
    "data = data.drop(columns=['Job ID'])"
   ]
  },
  {
   "cell_type": "code",
   "execution_count": 45,
   "metadata": {},
   "outputs": [
    {
     "data": {
      "text/plain": [
       "(3843, 27)"
      ]
     },
     "execution_count": 45,
     "metadata": {},
     "output_type": "execute_result"
    }
   ],
   "source": [
    "data.shape"
   ]
  },
  {
   "cell_type": "code",
   "execution_count": 46,
   "metadata": {},
   "outputs": [
    {
     "data": {
      "text/plain": [
       "Agency                            object\n",
       "Posting Type                      object\n",
       "# Of Positions                     int64\n",
       "Business Title                    object\n",
       "Civil Service Title               object\n",
       "Title Code No                     object\n",
       "Level                             object\n",
       "Job Category                      object\n",
       "Full-Time/Part-Time indicator     object\n",
       "Salary Range From                float64\n",
       "Salary Range To                  float64\n",
       "Salary Frequency                  object\n",
       "Work Location                     object\n",
       "Division/Work Unit                object\n",
       "Job Description                   object\n",
       "Minimum Qual Requirements         object\n",
       "Preferred Skills                  object\n",
       "Additional Information            object\n",
       "To Apply                          object\n",
       "Hours/Shift                       object\n",
       "Work Location 1                   object\n",
       "Recruitment Contact              float64\n",
       "Residency Requirement             object\n",
       "Posting Date                      object\n",
       "Post Until                        object\n",
       "Posting Updated                   object\n",
       "Process Date                      object\n",
       "dtype: object"
      ]
     },
     "execution_count": 46,
     "metadata": {},
     "output_type": "execute_result"
    }
   ],
   "source": [
    "data.dtypes"
   ]
  },
  {
   "cell_type": "code",
   "execution_count": 47,
   "metadata": {},
   "outputs": [
    {
     "data": {
      "text/plain": [
       "Agency                              0\n",
       "Posting Type                        0\n",
       "# Of Positions                      0\n",
       "Business Title                      0\n",
       "Civil Service Title                 0\n",
       "Title Code No                       0\n",
       "Level                               0\n",
       "Job Category                        2\n",
       "Full-Time/Part-Time indicator     301\n",
       "Salary Range From                   0\n",
       "Salary Range To                     0\n",
       "Salary Frequency                    0\n",
       "Work Location                       0\n",
       "Division/Work Unit                  0\n",
       "Job Description                  3825\n",
       "Minimum Qual Requirements        3825\n",
       "Preferred Skills                 3831\n",
       "Additional Information           3834\n",
       "To Apply                         3827\n",
       "Hours/Shift                      3840\n",
       "Work Location 1                  3840\n",
       "Recruitment Contact              3843\n",
       "Residency Requirement            3825\n",
       "Posting Date                        0\n",
       "Post Until                       2490\n",
       "Posting Updated                     0\n",
       "Process Date                        0\n",
       "dtype: int64"
      ]
     },
     "execution_count": 47,
     "metadata": {},
     "output_type": "execute_result"
    }
   ],
   "source": [
    "data.isnull().sum()"
   ]
  },
  {
   "cell_type": "code",
   "execution_count": 48,
   "metadata": {},
   "outputs": [
    {
     "data": {
      "text/html": [
       "<div>\n",
       "<style scoped>\n",
       "    .dataframe tbody tr th:only-of-type {\n",
       "        vertical-align: middle;\n",
       "    }\n",
       "\n",
       "    .dataframe tbody tr th {\n",
       "        vertical-align: top;\n",
       "    }\n",
       "\n",
       "    .dataframe thead th {\n",
       "        text-align: right;\n",
       "    }\n",
       "</style>\n",
       "<table border=\"1\" class=\"dataframe\">\n",
       "  <thead>\n",
       "    <tr style=\"text-align: right;\">\n",
       "      <th></th>\n",
       "      <th>Agency</th>\n",
       "      <th>Posting Type</th>\n",
       "      <th># Of Positions</th>\n",
       "      <th>Business Title</th>\n",
       "      <th>Civil Service Title</th>\n",
       "      <th>Title Code No</th>\n",
       "      <th>Level</th>\n",
       "      <th>Job Category</th>\n",
       "      <th>Full-Time/Part-Time indicator</th>\n",
       "      <th>Salary Range From</th>\n",
       "      <th>...</th>\n",
       "      <th>Additional Information</th>\n",
       "      <th>To Apply</th>\n",
       "      <th>Hours/Shift</th>\n",
       "      <th>Work Location 1</th>\n",
       "      <th>Recruitment Contact</th>\n",
       "      <th>Residency Requirement</th>\n",
       "      <th>Posting Date</th>\n",
       "      <th>Post Until</th>\n",
       "      <th>Posting Updated</th>\n",
       "      <th>Process Date</th>\n",
       "    </tr>\n",
       "  </thead>\n",
       "  <tbody>\n",
       "    <tr>\n",
       "      <th>0</th>\n",
       "      <td>DEPARTMENT OF BUSINESS SERV.</td>\n",
       "      <td>Internal</td>\n",
       "      <td>1</td>\n",
       "      <td>Account Manager</td>\n",
       "      <td>CONTRACT REVIEWER (OFFICE OF L</td>\n",
       "      <td>40563</td>\n",
       "      <td>1</td>\n",
       "      <td>NaN</td>\n",
       "      <td>NaN</td>\n",
       "      <td>42405.00</td>\n",
       "      <td>...</td>\n",
       "      <td>Salary range for this position is: $42,405 - $...</td>\n",
       "      <td>NaN</td>\n",
       "      <td>NaN</td>\n",
       "      <td>NaN</td>\n",
       "      <td>NaN</td>\n",
       "      <td>New York City residency is generally required ...</td>\n",
       "      <td>2011-06-24T00:00:00.000</td>\n",
       "      <td>NaN</td>\n",
       "      <td>2011-06-24T00:00:00.000</td>\n",
       "      <td>2019-03-19T00:00:00.000</td>\n",
       "    </tr>\n",
       "    <tr>\n",
       "      <th>1</th>\n",
       "      <td>DEPARTMENT OF BUSINESS SERV.</td>\n",
       "      <td>Internal</td>\n",
       "      <td>1</td>\n",
       "      <td>EXECUTIVE DIRECTOR, BUSINESS DEVELOPMENT</td>\n",
       "      <td>ADMINISTRATIVE BUSINESS PROMOT</td>\n",
       "      <td>10009</td>\n",
       "      <td>M3</td>\n",
       "      <td>NaN</td>\n",
       "      <td>F</td>\n",
       "      <td>60740.00</td>\n",
       "      <td>...</td>\n",
       "      <td>NaN</td>\n",
       "      <td>In addition to applying through this website, ...</td>\n",
       "      <td>NaN</td>\n",
       "      <td>NaN</td>\n",
       "      <td>NaN</td>\n",
       "      <td>New York City residency is generally required ...</td>\n",
       "      <td>2012-01-26T00:00:00.000</td>\n",
       "      <td>NaN</td>\n",
       "      <td>2012-01-26T00:00:00.000</td>\n",
       "      <td>2019-03-19T00:00:00.000</td>\n",
       "    </tr>\n",
       "    <tr>\n",
       "      <th>2</th>\n",
       "      <td>NYC HOUSING AUTHORITY</td>\n",
       "      <td>External</td>\n",
       "      <td>52</td>\n",
       "      <td>Maintenance Worker - Technical Services-Heatin...</td>\n",
       "      <td>MAINTENANCE WORKER</td>\n",
       "      <td>90698</td>\n",
       "      <td>0</td>\n",
       "      <td>Maintenance &amp; Operations</td>\n",
       "      <td>F</td>\n",
       "      <td>51907.68</td>\n",
       "      <td>...</td>\n",
       "      <td>1.  A Motor Vehicle Driverâ€™s License valid i...</td>\n",
       "      <td>Click the \"Apply Now\" button.</td>\n",
       "      <td>NaN</td>\n",
       "      <td>NaN</td>\n",
       "      <td>NaN</td>\n",
       "      <td>NYCHA has no residency requirements.</td>\n",
       "      <td>2013-10-24T00:00:00.000</td>\n",
       "      <td>NaN</td>\n",
       "      <td>2013-12-12T00:00:00.000</td>\n",
       "      <td>2019-03-19T00:00:00.000</td>\n",
       "    </tr>\n",
       "    <tr>\n",
       "      <th>3</th>\n",
       "      <td>NYC HOUSING AUTHORITY</td>\n",
       "      <td>Internal</td>\n",
       "      <td>52</td>\n",
       "      <td>Maintenance Worker - Technical Services-Heatin...</td>\n",
       "      <td>MAINTENANCE WORKER</td>\n",
       "      <td>90698</td>\n",
       "      <td>0</td>\n",
       "      <td>Maintenance &amp; Operations</td>\n",
       "      <td>F</td>\n",
       "      <td>51907.68</td>\n",
       "      <td>...</td>\n",
       "      <td>1.  A Motor Vehicle Driverâ€™s License valid i...</td>\n",
       "      <td>Click the \"Apply Now\" button.</td>\n",
       "      <td>NaN</td>\n",
       "      <td>NaN</td>\n",
       "      <td>NaN</td>\n",
       "      <td>NYCHA has no residency requirements.</td>\n",
       "      <td>2013-10-24T00:00:00.000</td>\n",
       "      <td>NaN</td>\n",
       "      <td>2013-12-12T00:00:00.000</td>\n",
       "      <td>2019-03-19T00:00:00.000</td>\n",
       "    </tr>\n",
       "    <tr>\n",
       "      <th>4</th>\n",
       "      <td>NYC HOUSING AUTHORITY</td>\n",
       "      <td>Internal</td>\n",
       "      <td>50</td>\n",
       "      <td>Temporary Painter</td>\n",
       "      <td>PAINTER</td>\n",
       "      <td>91830</td>\n",
       "      <td>0</td>\n",
       "      <td>Maintenance &amp; Operations</td>\n",
       "      <td>F</td>\n",
       "      <td>35.00</td>\n",
       "      <td>...</td>\n",
       "      <td>SPECIAL NOTE:    1.  This is a temporary assig...</td>\n",
       "      <td>Click the \"Apply Now\" button.</td>\n",
       "      <td>NaN</td>\n",
       "      <td>NaN</td>\n",
       "      <td>NaN</td>\n",
       "      <td>NYCHA has no residency requirement.</td>\n",
       "      <td>2014-01-09T00:00:00.000</td>\n",
       "      <td>NaN</td>\n",
       "      <td>2014-01-08T00:00:00.000</td>\n",
       "      <td>2019-03-19T00:00:00.000</td>\n",
       "    </tr>\n",
       "  </tbody>\n",
       "</table>\n",
       "<p>5 rows × 27 columns</p>\n",
       "</div>"
      ],
      "text/plain": [
       "                         Agency Posting Type  # Of Positions  \\\n",
       "0  DEPARTMENT OF BUSINESS SERV.     Internal               1   \n",
       "1  DEPARTMENT OF BUSINESS SERV.     Internal               1   \n",
       "2         NYC HOUSING AUTHORITY     External              52   \n",
       "3         NYC HOUSING AUTHORITY     Internal              52   \n",
       "4         NYC HOUSING AUTHORITY     Internal              50   \n",
       "\n",
       "                                      Business Title  \\\n",
       "0                                    Account Manager   \n",
       "1           EXECUTIVE DIRECTOR, BUSINESS DEVELOPMENT   \n",
       "2  Maintenance Worker - Technical Services-Heatin...   \n",
       "3  Maintenance Worker - Technical Services-Heatin...   \n",
       "4                                  Temporary Painter   \n",
       "\n",
       "              Civil Service Title Title Code No Level  \\\n",
       "0  CONTRACT REVIEWER (OFFICE OF L         40563     1   \n",
       "1  ADMINISTRATIVE BUSINESS PROMOT         10009    M3   \n",
       "2              MAINTENANCE WORKER         90698     0   \n",
       "3              MAINTENANCE WORKER         90698     0   \n",
       "4                         PAINTER         91830     0   \n",
       "\n",
       "               Job Category Full-Time/Part-Time indicator  Salary Range From  \\\n",
       "0                       NaN                           NaN           42405.00   \n",
       "1                       NaN                             F           60740.00   \n",
       "2  Maintenance & Operations                             F           51907.68   \n",
       "3  Maintenance & Operations                             F           51907.68   \n",
       "4  Maintenance & Operations                             F              35.00   \n",
       "\n",
       "   ...                             Additional Information  \\\n",
       "0  ...  Salary range for this position is: $42,405 - $...   \n",
       "1  ...                                                NaN   \n",
       "2  ...  1.  A Motor Vehicle Driverâ€™s License valid i...   \n",
       "3  ...  1.  A Motor Vehicle Driverâ€™s License valid i...   \n",
       "4  ...  SPECIAL NOTE:    1.  This is a temporary assig...   \n",
       "\n",
       "                                            To Apply Hours/Shift  \\\n",
       "0                                                NaN         NaN   \n",
       "1  In addition to applying through this website, ...         NaN   \n",
       "2                      Click the \"Apply Now\" button.         NaN   \n",
       "3                      Click the \"Apply Now\" button.         NaN   \n",
       "4                      Click the \"Apply Now\" button.         NaN   \n",
       "\n",
       "  Work Location 1 Recruitment Contact  \\\n",
       "0             NaN                 NaN   \n",
       "1             NaN                 NaN   \n",
       "2             NaN                 NaN   \n",
       "3             NaN                 NaN   \n",
       "4             NaN                 NaN   \n",
       "\n",
       "                               Residency Requirement             Posting Date  \\\n",
       "0  New York City residency is generally required ...  2011-06-24T00:00:00.000   \n",
       "1  New York City residency is generally required ...  2012-01-26T00:00:00.000   \n",
       "2               NYCHA has no residency requirements.  2013-10-24T00:00:00.000   \n",
       "3               NYCHA has no residency requirements.  2013-10-24T00:00:00.000   \n",
       "4                NYCHA has no residency requirement.  2014-01-09T00:00:00.000   \n",
       "\n",
       "  Post Until          Posting Updated             Process Date  \n",
       "0        NaN  2011-06-24T00:00:00.000  2019-03-19T00:00:00.000  \n",
       "1        NaN  2012-01-26T00:00:00.000  2019-03-19T00:00:00.000  \n",
       "2        NaN  2013-12-12T00:00:00.000  2019-03-19T00:00:00.000  \n",
       "3        NaN  2013-12-12T00:00:00.000  2019-03-19T00:00:00.000  \n",
       "4        NaN  2014-01-08T00:00:00.000  2019-03-19T00:00:00.000  \n",
       "\n",
       "[5 rows x 27 columns]"
      ]
     },
     "execution_count": 48,
     "metadata": {},
     "output_type": "execute_result"
    }
   ],
   "source": [
    "data.head()"
   ]
  },
  {
   "cell_type": "markdown",
   "metadata": {},
   "source": [
    "## УдОлим колонки, в которых много пропусков"
   ]
  },
  {
   "cell_type": "code",
   "execution_count": 49,
   "metadata": {},
   "outputs": [
    {
     "name": "stdout",
     "output_type": "stream",
     "text": [
      "Удалены колонки: ['Job Description', 'Minimum Qual Requirements', 'Preferred Skills', 'Additional Information', 'To Apply', 'Hours/Shift', 'Work Location 1', 'Recruitment Contact', 'Residency Requirement', 'Post Until']\n"
     ]
    }
   ],
   "source": [
    "bad_columns = []\n",
    "good_columns = []\n",
    "bad_coef = 0.4\n",
    "\n",
    "for col in data.columns:\n",
    "    null_count = data[col].isnull().sum()\n",
    "    if null_count / data.shape[0] > bad_coef:\n",
    "        bad_columns.append(col)\n",
    "    else:\n",
    "        good_columns.append(col)\n",
    "        \n",
    "print('Удалены колонки:', bad_columns)"
   ]
  },
  {
   "cell_type": "code",
   "execution_count": 50,
   "metadata": {},
   "outputs": [],
   "source": [
    "data = data[good_columns]"
   ]
  },
  {
   "cell_type": "code",
   "execution_count": 51,
   "metadata": {},
   "outputs": [
    {
     "data": {
      "text/plain": [
       "(3843, 17)"
      ]
     },
     "execution_count": 51,
     "metadata": {},
     "output_type": "execute_result"
    }
   ],
   "source": [
    "data.shape"
   ]
  },
  {
   "cell_type": "code",
   "execution_count": 52,
   "metadata": {},
   "outputs": [
    {
     "data": {
      "text/html": [
       "<div>\n",
       "<style scoped>\n",
       "    .dataframe tbody tr th:only-of-type {\n",
       "        vertical-align: middle;\n",
       "    }\n",
       "\n",
       "    .dataframe tbody tr th {\n",
       "        vertical-align: top;\n",
       "    }\n",
       "\n",
       "    .dataframe thead th {\n",
       "        text-align: right;\n",
       "    }\n",
       "</style>\n",
       "<table border=\"1\" class=\"dataframe\">\n",
       "  <thead>\n",
       "    <tr style=\"text-align: right;\">\n",
       "      <th></th>\n",
       "      <th>Agency</th>\n",
       "      <th>Posting Type</th>\n",
       "      <th># Of Positions</th>\n",
       "      <th>Business Title</th>\n",
       "      <th>Civil Service Title</th>\n",
       "      <th>Title Code No</th>\n",
       "      <th>Level</th>\n",
       "      <th>Job Category</th>\n",
       "      <th>Full-Time/Part-Time indicator</th>\n",
       "      <th>Salary Range From</th>\n",
       "      <th>Salary Range To</th>\n",
       "      <th>Salary Frequency</th>\n",
       "      <th>Work Location</th>\n",
       "      <th>Division/Work Unit</th>\n",
       "      <th>Posting Date</th>\n",
       "      <th>Posting Updated</th>\n",
       "      <th>Process Date</th>\n",
       "    </tr>\n",
       "  </thead>\n",
       "  <tbody>\n",
       "    <tr>\n",
       "      <th>0</th>\n",
       "      <td>DEPARTMENT OF BUSINESS SERV.</td>\n",
       "      <td>Internal</td>\n",
       "      <td>1</td>\n",
       "      <td>Account Manager</td>\n",
       "      <td>CONTRACT REVIEWER (OFFICE OF L</td>\n",
       "      <td>40563</td>\n",
       "      <td>1</td>\n",
       "      <td>NaN</td>\n",
       "      <td>NaN</td>\n",
       "      <td>42405.00</td>\n",
       "      <td>65485.00</td>\n",
       "      <td>Annual</td>\n",
       "      <td>110 William St. N Y</td>\n",
       "      <td>Strategy &amp; Analytics</td>\n",
       "      <td>2011-06-24T00:00:00.000</td>\n",
       "      <td>2011-06-24T00:00:00.000</td>\n",
       "      <td>2019-03-19T00:00:00.000</td>\n",
       "    </tr>\n",
       "    <tr>\n",
       "      <th>1</th>\n",
       "      <td>DEPARTMENT OF BUSINESS SERV.</td>\n",
       "      <td>Internal</td>\n",
       "      <td>1</td>\n",
       "      <td>EXECUTIVE DIRECTOR, BUSINESS DEVELOPMENT</td>\n",
       "      <td>ADMINISTRATIVE BUSINESS PROMOT</td>\n",
       "      <td>10009</td>\n",
       "      <td>M3</td>\n",
       "      <td>NaN</td>\n",
       "      <td>F</td>\n",
       "      <td>60740.00</td>\n",
       "      <td>162014.00</td>\n",
       "      <td>Annual</td>\n",
       "      <td>110 William St. N Y</td>\n",
       "      <td>Tech Talent Pipeline</td>\n",
       "      <td>2012-01-26T00:00:00.000</td>\n",
       "      <td>2012-01-26T00:00:00.000</td>\n",
       "      <td>2019-03-19T00:00:00.000</td>\n",
       "    </tr>\n",
       "    <tr>\n",
       "      <th>2</th>\n",
       "      <td>NYC HOUSING AUTHORITY</td>\n",
       "      <td>External</td>\n",
       "      <td>52</td>\n",
       "      <td>Maintenance Worker - Technical Services-Heatin...</td>\n",
       "      <td>MAINTENANCE WORKER</td>\n",
       "      <td>90698</td>\n",
       "      <td>0</td>\n",
       "      <td>Maintenance &amp; Operations</td>\n",
       "      <td>F</td>\n",
       "      <td>51907.68</td>\n",
       "      <td>54580.32</td>\n",
       "      <td>Annual</td>\n",
       "      <td>Heating Mgt-Operations</td>\n",
       "      <td>Management Services Department</td>\n",
       "      <td>2013-10-24T00:00:00.000</td>\n",
       "      <td>2013-12-12T00:00:00.000</td>\n",
       "      <td>2019-03-19T00:00:00.000</td>\n",
       "    </tr>\n",
       "    <tr>\n",
       "      <th>3</th>\n",
       "      <td>NYC HOUSING AUTHORITY</td>\n",
       "      <td>Internal</td>\n",
       "      <td>52</td>\n",
       "      <td>Maintenance Worker - Technical Services-Heatin...</td>\n",
       "      <td>MAINTENANCE WORKER</td>\n",
       "      <td>90698</td>\n",
       "      <td>0</td>\n",
       "      <td>Maintenance &amp; Operations</td>\n",
       "      <td>F</td>\n",
       "      <td>51907.68</td>\n",
       "      <td>54580.32</td>\n",
       "      <td>Annual</td>\n",
       "      <td>Heating Mgt-Operations</td>\n",
       "      <td>Management Services Department</td>\n",
       "      <td>2013-10-24T00:00:00.000</td>\n",
       "      <td>2013-12-12T00:00:00.000</td>\n",
       "      <td>2019-03-19T00:00:00.000</td>\n",
       "    </tr>\n",
       "    <tr>\n",
       "      <th>4</th>\n",
       "      <td>NYC HOUSING AUTHORITY</td>\n",
       "      <td>Internal</td>\n",
       "      <td>50</td>\n",
       "      <td>Temporary Painter</td>\n",
       "      <td>PAINTER</td>\n",
       "      <td>91830</td>\n",
       "      <td>0</td>\n",
       "      <td>Maintenance &amp; Operations</td>\n",
       "      <td>F</td>\n",
       "      <td>35.00</td>\n",
       "      <td>35.00</td>\n",
       "      <td>Hourly</td>\n",
       "      <td>DMP-Contract &amp; Analysis Unit</td>\n",
       "      <td>Dept of Management &amp; Planning</td>\n",
       "      <td>2014-01-09T00:00:00.000</td>\n",
       "      <td>2014-01-08T00:00:00.000</td>\n",
       "      <td>2019-03-19T00:00:00.000</td>\n",
       "    </tr>\n",
       "  </tbody>\n",
       "</table>\n",
       "</div>"
      ],
      "text/plain": [
       "                         Agency Posting Type  # Of Positions  \\\n",
       "0  DEPARTMENT OF BUSINESS SERV.     Internal               1   \n",
       "1  DEPARTMENT OF BUSINESS SERV.     Internal               1   \n",
       "2         NYC HOUSING AUTHORITY     External              52   \n",
       "3         NYC HOUSING AUTHORITY     Internal              52   \n",
       "4         NYC HOUSING AUTHORITY     Internal              50   \n",
       "\n",
       "                                      Business Title  \\\n",
       "0                                    Account Manager   \n",
       "1           EXECUTIVE DIRECTOR, BUSINESS DEVELOPMENT   \n",
       "2  Maintenance Worker - Technical Services-Heatin...   \n",
       "3  Maintenance Worker - Technical Services-Heatin...   \n",
       "4                                  Temporary Painter   \n",
       "\n",
       "              Civil Service Title Title Code No Level  \\\n",
       "0  CONTRACT REVIEWER (OFFICE OF L         40563     1   \n",
       "1  ADMINISTRATIVE BUSINESS PROMOT         10009    M3   \n",
       "2              MAINTENANCE WORKER         90698     0   \n",
       "3              MAINTENANCE WORKER         90698     0   \n",
       "4                         PAINTER         91830     0   \n",
       "\n",
       "               Job Category Full-Time/Part-Time indicator  Salary Range From  \\\n",
       "0                       NaN                           NaN           42405.00   \n",
       "1                       NaN                             F           60740.00   \n",
       "2  Maintenance & Operations                             F           51907.68   \n",
       "3  Maintenance & Operations                             F           51907.68   \n",
       "4  Maintenance & Operations                             F              35.00   \n",
       "\n",
       "   Salary Range To Salary Frequency                 Work Location  \\\n",
       "0         65485.00           Annual           110 William St. N Y   \n",
       "1        162014.00           Annual           110 William St. N Y   \n",
       "2         54580.32           Annual        Heating Mgt-Operations   \n",
       "3         54580.32           Annual        Heating Mgt-Operations   \n",
       "4            35.00           Hourly  DMP-Contract & Analysis Unit   \n",
       "\n",
       "               Division/Work Unit             Posting Date  \\\n",
       "0            Strategy & Analytics  2011-06-24T00:00:00.000   \n",
       "1            Tech Talent Pipeline  2012-01-26T00:00:00.000   \n",
       "2  Management Services Department  2013-10-24T00:00:00.000   \n",
       "3  Management Services Department  2013-10-24T00:00:00.000   \n",
       "4   Dept of Management & Planning  2014-01-09T00:00:00.000   \n",
       "\n",
       "           Posting Updated             Process Date  \n",
       "0  2011-06-24T00:00:00.000  2019-03-19T00:00:00.000  \n",
       "1  2012-01-26T00:00:00.000  2019-03-19T00:00:00.000  \n",
       "2  2013-12-12T00:00:00.000  2019-03-19T00:00:00.000  \n",
       "3  2013-12-12T00:00:00.000  2019-03-19T00:00:00.000  \n",
       "4  2014-01-08T00:00:00.000  2019-03-19T00:00:00.000  "
      ]
     },
     "execution_count": 52,
     "metadata": {},
     "output_type": "execute_result"
    }
   ],
   "source": [
    "data.head()"
   ]
  },
  {
   "cell_type": "code",
   "execution_count": 53,
   "metadata": {},
   "outputs": [
    {
     "data": {
      "text/plain": [
       "Agency                            object\n",
       "Posting Type                      object\n",
       "# Of Positions                     int64\n",
       "Business Title                    object\n",
       "Civil Service Title               object\n",
       "Title Code No                     object\n",
       "Level                             object\n",
       "Job Category                      object\n",
       "Full-Time/Part-Time indicator     object\n",
       "Salary Range From                float64\n",
       "Salary Range To                  float64\n",
       "Salary Frequency                  object\n",
       "Work Location                     object\n",
       "Division/Work Unit                object\n",
       "Posting Date                      object\n",
       "Posting Updated                   object\n",
       "Process Date                      object\n",
       "dtype: object"
      ]
     },
     "execution_count": 53,
     "metadata": {},
     "output_type": "execute_result"
    }
   ],
   "source": [
    "data.dtypes"
   ]
  },
  {
   "cell_type": "markdown",
   "metadata": {},
   "source": [
    "## Выбор бинарных и категориальных признаков"
   ]
  },
  {
   "cell_type": "code",
   "execution_count": 54,
   "metadata": {},
   "outputs": [],
   "source": [
    "binary_cols = []\n",
    "cat_cols = []\n",
    "num_cols = []\n",
    "\n",
    "for col in data.columns:\n",
    "    value_count = data[col].dropna().nunique()\n",
    "    dt = str(data[col].dtype)\n",
    "    if value_count <= 2:\n",
    "        binary_cols.append(col)\n",
    "    elif dt == 'object':\n",
    "        cat_cols.append(col)\n",
    "    else:\n",
    "        num_cols.append(col)\n",
    "\n",
    "non_binary_cols = [*cat_cols, *num_cols]"
   ]
  },
  {
   "cell_type": "markdown",
   "metadata": {},
   "source": [
    "#### Бинарные колонки:"
   ]
  },
  {
   "cell_type": "code",
   "execution_count": 55,
   "metadata": {},
   "outputs": [
    {
     "data": {
      "text/plain": [
       "['Posting Type', 'Full-Time/Part-Time indicator', 'Process Date']"
      ]
     },
     "execution_count": 55,
     "metadata": {},
     "output_type": "execute_result"
    }
   ],
   "source": [
    "binary_cols"
   ]
  },
  {
   "cell_type": "markdown",
   "metadata": {},
   "source": [
    "#### Категориальные колонки:"
   ]
  },
  {
   "cell_type": "code",
   "execution_count": 56,
   "metadata": {},
   "outputs": [
    {
     "data": {
      "text/plain": [
       "['Agency',\n",
       " 'Business Title',\n",
       " 'Civil Service Title',\n",
       " 'Title Code No',\n",
       " 'Level',\n",
       " 'Job Category',\n",
       " 'Salary Frequency',\n",
       " 'Work Location',\n",
       " 'Division/Work Unit',\n",
       " 'Posting Date',\n",
       " 'Posting Updated']"
      ]
     },
     "execution_count": 56,
     "metadata": {},
     "output_type": "execute_result"
    }
   ],
   "source": [
    "cat_cols"
   ]
  },
  {
   "cell_type": "markdown",
   "metadata": {},
   "source": [
    "#### Числовые калонки:"
   ]
  },
  {
   "cell_type": "code",
   "execution_count": 57,
   "metadata": {},
   "outputs": [
    {
     "data": {
      "text/plain": [
       "['# Of Positions', 'Salary Range From', 'Salary Range To']"
      ]
     },
     "execution_count": 57,
     "metadata": {},
     "output_type": "execute_result"
    }
   ],
   "source": [
    "num_cols"
   ]
  },
  {
   "cell_type": "markdown",
   "metadata": {},
   "source": [
    "#### Все небинарные колонки"
   ]
  },
  {
   "cell_type": "code",
   "execution_count": 58,
   "metadata": {},
   "outputs": [
    {
     "data": {
      "text/plain": [
       "['Agency',\n",
       " 'Business Title',\n",
       " 'Civil Service Title',\n",
       " 'Title Code No',\n",
       " 'Level',\n",
       " 'Job Category',\n",
       " 'Salary Frequency',\n",
       " 'Work Location',\n",
       " 'Division/Work Unit',\n",
       " 'Posting Date',\n",
       " 'Posting Updated',\n",
       " '# Of Positions',\n",
       " 'Salary Range From',\n",
       " 'Salary Range To']"
      ]
     },
     "execution_count": 58,
     "metadata": {},
     "output_type": "execute_result"
    }
   ],
   "source": [
    "non_binary_cols"
   ]
  },
  {
   "cell_type": "markdown",
   "metadata": {},
   "source": [
    "### Гистограмма по признакам"
   ]
  },
  {
   "cell_type": "code",
   "execution_count": 59,
   "metadata": {},
   "outputs": [
    {
     "data": {
      "image/png": "[encoded data removed]",
      "text/plain": [
       "<Figure size 432x288 with 1 Axes>"
      ]
     },
     "metadata": {},
     "output_type": "display_data"
    },
    {
     "data": {
      "image/png": "[encoded data removed]",
      "text/plain": [
       "<Figure size 432x288 with 1 Axes>"
      ]
     },
     "metadata": {},
     "output_type": "display_data"
    },
    {
     "data": {
      "image/png": "[encoded data removed]",
      "text/plain": [
       "<Figure size 432x288 with 1 Axes>"
      ]
     },
     "metadata": {},
     "output_type": "display_data"
    }
   ],
   "source": [
    "for col in num_cols:\n",
    "    plt.hist(data[col], 50)\n",
    "    plt.xlabel(col)\n",
    "    plt.show()"
   ]
  },
  {
   "cell_type": "markdown",
   "metadata": {},
   "source": [
    "## Заполнение пустых значений"
   ]
  },
  {
   "cell_type": "code",
   "execution_count": 60,
   "metadata": {},
   "outputs": [],
   "source": [
    "# Заполним отсутсвующие значения колличественных признаков\n",
    "# медианными в текущем столбце\n",
    "data = data.fillna(data.median(axis=0), axis=0)\n",
    "\n",
    "# Заполнение отсутсвующих категориальных данных самыми популярными\n",
    "described_data = data.describe(include=[object])\n",
    "for col in [*cat_cols, *binary_cols]:\n",
    "    data[col] = data[col].fillna(described_data[col]['top'])"
   ]
  },
  {
   "cell_type": "code",
   "execution_count": 61,
   "metadata": {},
   "outputs": [
    {
     "data": {
      "text/plain": [
       "Agency                           0\n",
       "Posting Type                     0\n",
       "# Of Positions                   0\n",
       "Business Title                   0\n",
       "Civil Service Title              0\n",
       "Title Code No                    0\n",
       "Level                            0\n",
       "Job Category                     0\n",
       "Full-Time/Part-Time indicator    0\n",
       "Salary Range From                0\n",
       "Salary Range To                  0\n",
       "Salary Frequency                 0\n",
       "Work Location                    0\n",
       "Division/Work Unit               0\n",
       "Posting Date                     0\n",
       "Posting Updated                  0\n",
       "Process Date                     0\n",
       "dtype: int64"
      ]
     },
     "execution_count": 61,
     "metadata": {},
     "output_type": "execute_result"
    }
   ],
   "source": [
    "data.isnull().sum()"
   ]
  },
  {
   "cell_type": "code",
   "execution_count": 62,
   "metadata": {},
   "outputs": [
    {
     "data": {
      "text/html": [
       "<div>\n",
       "<style scoped>\n",
       "    .dataframe tbody tr th:only-of-type {\n",
       "        vertical-align: middle;\n",
       "    }\n",
       "\n",
       "    .dataframe tbody tr th {\n",
       "        vertical-align: top;\n",
       "    }\n",
       "\n",
       "    .dataframe thead th {\n",
       "        text-align: right;\n",
       "    }\n",
       "</style>\n",
       "<table border=\"1\" class=\"dataframe\">\n",
       "  <thead>\n",
       "    <tr style=\"text-align: right;\">\n",
       "      <th></th>\n",
       "      <th>Agency</th>\n",
       "      <th>Posting Type</th>\n",
       "      <th># Of Positions</th>\n",
       "      <th>Business Title</th>\n",
       "      <th>Civil Service Title</th>\n",
       "      <th>Title Code No</th>\n",
       "      <th>Level</th>\n",
       "      <th>Job Category</th>\n",
       "      <th>Full-Time/Part-Time indicator</th>\n",
       "      <th>Salary Range From</th>\n",
       "      <th>Salary Range To</th>\n",
       "      <th>Salary Frequency</th>\n",
       "      <th>Work Location</th>\n",
       "      <th>Division/Work Unit</th>\n",
       "      <th>Posting Date</th>\n",
       "      <th>Posting Updated</th>\n",
       "      <th>Process Date</th>\n",
       "    </tr>\n",
       "  </thead>\n",
       "  <tbody>\n",
       "    <tr>\n",
       "      <th>0</th>\n",
       "      <td>DEPARTMENT OF BUSINESS SERV.</td>\n",
       "      <td>Internal</td>\n",
       "      <td>1</td>\n",
       "      <td>Account Manager</td>\n",
       "      <td>CONTRACT REVIEWER (OFFICE OF L</td>\n",
       "      <td>40563</td>\n",
       "      <td>1</td>\n",
       "      <td>Engineering, Architecture, &amp; Planning</td>\n",
       "      <td>F</td>\n",
       "      <td>42405.00</td>\n",
       "      <td>65485.00</td>\n",
       "      <td>Annual</td>\n",
       "      <td>110 William St. N Y</td>\n",
       "      <td>Strategy &amp; Analytics</td>\n",
       "      <td>2011-06-24T00:00:00.000</td>\n",
       "      <td>2011-06-24T00:00:00.000</td>\n",
       "      <td>2019-03-19T00:00:00.000</td>\n",
       "    </tr>\n",
       "    <tr>\n",
       "      <th>1</th>\n",
       "      <td>DEPARTMENT OF BUSINESS SERV.</td>\n",
       "      <td>Internal</td>\n",
       "      <td>1</td>\n",
       "      <td>EXECUTIVE DIRECTOR, BUSINESS DEVELOPMENT</td>\n",
       "      <td>ADMINISTRATIVE BUSINESS PROMOT</td>\n",
       "      <td>10009</td>\n",
       "      <td>M3</td>\n",
       "      <td>Engineering, Architecture, &amp; Planning</td>\n",
       "      <td>F</td>\n",
       "      <td>60740.00</td>\n",
       "      <td>162014.00</td>\n",
       "      <td>Annual</td>\n",
       "      <td>110 William St. N Y</td>\n",
       "      <td>Tech Talent Pipeline</td>\n",
       "      <td>2012-01-26T00:00:00.000</td>\n",
       "      <td>2012-01-26T00:00:00.000</td>\n",
       "      <td>2019-03-19T00:00:00.000</td>\n",
       "    </tr>\n",
       "    <tr>\n",
       "      <th>2</th>\n",
       "      <td>NYC HOUSING AUTHORITY</td>\n",
       "      <td>External</td>\n",
       "      <td>52</td>\n",
       "      <td>Maintenance Worker - Technical Services-Heatin...</td>\n",
       "      <td>MAINTENANCE WORKER</td>\n",
       "      <td>90698</td>\n",
       "      <td>0</td>\n",
       "      <td>Maintenance &amp; Operations</td>\n",
       "      <td>F</td>\n",
       "      <td>51907.68</td>\n",
       "      <td>54580.32</td>\n",
       "      <td>Annual</td>\n",
       "      <td>Heating Mgt-Operations</td>\n",
       "      <td>Management Services Department</td>\n",
       "      <td>2013-10-24T00:00:00.000</td>\n",
       "      <td>2013-12-12T00:00:00.000</td>\n",
       "      <td>2019-03-19T00:00:00.000</td>\n",
       "    </tr>\n",
       "    <tr>\n",
       "      <th>3</th>\n",
       "      <td>NYC HOUSING AUTHORITY</td>\n",
       "      <td>Internal</td>\n",
       "      <td>52</td>\n",
       "      <td>Maintenance Worker - Technical Services-Heatin...</td>\n",
       "      <td>MAINTENANCE WORKER</td>\n",
       "      <td>90698</td>\n",
       "      <td>0</td>\n",
       "      <td>Maintenance &amp; Operations</td>\n",
       "      <td>F</td>\n",
       "      <td>51907.68</td>\n",
       "      <td>54580.32</td>\n",
       "      <td>Annual</td>\n",
       "      <td>Heating Mgt-Operations</td>\n",
       "      <td>Management Services Department</td>\n",
       "      <td>2013-10-24T00:00:00.000</td>\n",
       "      <td>2013-12-12T00:00:00.000</td>\n",
       "      <td>2019-03-19T00:00:00.000</td>\n",
       "    </tr>\n",
       "    <tr>\n",
       "      <th>4</th>\n",
       "      <td>NYC HOUSING AUTHORITY</td>\n",
       "      <td>Internal</td>\n",
       "      <td>50</td>\n",
       "      <td>Temporary Painter</td>\n",
       "      <td>PAINTER</td>\n",
       "      <td>91830</td>\n",
       "      <td>0</td>\n",
       "      <td>Maintenance &amp; Operations</td>\n",
       "      <td>F</td>\n",
       "      <td>35.00</td>\n",
       "      <td>35.00</td>\n",
       "      <td>Hourly</td>\n",
       "      <td>DMP-Contract &amp; Analysis Unit</td>\n",
       "      <td>Dept of Management &amp; Planning</td>\n",
       "      <td>2014-01-09T00:00:00.000</td>\n",
       "      <td>2014-01-08T00:00:00.000</td>\n",
       "      <td>2019-03-19T00:00:00.000</td>\n",
       "    </tr>\n",
       "  </tbody>\n",
       "</table>\n",
       "</div>"
      ],
      "text/plain": [
       "                         Agency Posting Type  # Of Positions  \\\n",
       "0  DEPARTMENT OF BUSINESS SERV.     Internal               1   \n",
       "1  DEPARTMENT OF BUSINESS SERV.     Internal               1   \n",
       "2         NYC HOUSING AUTHORITY     External              52   \n",
       "3         NYC HOUSING AUTHORITY     Internal              52   \n",
       "4         NYC HOUSING AUTHORITY     Internal              50   \n",
       "\n",
       "                                      Business Title  \\\n",
       "0                                    Account Manager   \n",
       "1           EXECUTIVE DIRECTOR, BUSINESS DEVELOPMENT   \n",
       "2  Maintenance Worker - Technical Services-Heatin...   \n",
       "3  Maintenance Worker - Technical Services-Heatin...   \n",
       "4                                  Temporary Painter   \n",
       "\n",
       "              Civil Service Title Title Code No Level  \\\n",
       "0  CONTRACT REVIEWER (OFFICE OF L         40563     1   \n",
       "1  ADMINISTRATIVE BUSINESS PROMOT         10009    M3   \n",
       "2              MAINTENANCE WORKER         90698     0   \n",
       "3              MAINTENANCE WORKER         90698     0   \n",
       "4                         PAINTER         91830     0   \n",
       "\n",
       "                            Job Category Full-Time/Part-Time indicator  \\\n",
       "0  Engineering, Architecture, & Planning                             F   \n",
       "1  Engineering, Architecture, & Planning                             F   \n",
       "2               Maintenance & Operations                             F   \n",
       "3               Maintenance & Operations                             F   \n",
       "4               Maintenance & Operations                             F   \n",
       "\n",
       "   Salary Range From  Salary Range To Salary Frequency  \\\n",
       "0           42405.00         65485.00           Annual   \n",
       "1           60740.00        162014.00           Annual   \n",
       "2           51907.68         54580.32           Annual   \n",
       "3           51907.68         54580.32           Annual   \n",
       "4              35.00            35.00           Hourly   \n",
       "\n",
       "                  Work Location              Division/Work Unit  \\\n",
       "0           110 William St. N Y            Strategy & Analytics   \n",
       "1           110 William St. N Y            Tech Talent Pipeline   \n",
       "2        Heating Mgt-Operations  Management Services Department   \n",
       "3        Heating Mgt-Operations  Management Services Department   \n",
       "4  DMP-Contract & Analysis Unit   Dept of Management & Planning   \n",
       "\n",
       "              Posting Date          Posting Updated             Process Date  \n",
       "0  2011-06-24T00:00:00.000  2011-06-24T00:00:00.000  2019-03-19T00:00:00.000  \n",
       "1  2012-01-26T00:00:00.000  2012-01-26T00:00:00.000  2019-03-19T00:00:00.000  \n",
       "2  2013-10-24T00:00:00.000  2013-12-12T00:00:00.000  2019-03-19T00:00:00.000  \n",
       "3  2013-10-24T00:00:00.000  2013-12-12T00:00:00.000  2019-03-19T00:00:00.000  \n",
       "4  2014-01-09T00:00:00.000  2014-01-08T00:00:00.000  2019-03-19T00:00:00.000  "
      ]
     },
     "execution_count": 62,
     "metadata": {},
     "output_type": "execute_result"
    }
   ],
   "source": [
    "data.head()"
   ]
  },
  {
   "cell_type": "markdown",
   "metadata": {},
   "source": [
    "## Кодирование признаков"
   ]
  },
  {
   "cell_type": "code",
   "execution_count": 63,
   "metadata": {},
   "outputs": [],
   "source": [
    "# Преобразуем данные бинарных признаков в 1 / 0\n",
    "for col in binary_cols:\n",
    "    top = described_data[col]['top']\n",
    "    top_items = data[col] == top\n",
    "    data.loc[top_items, col] = 0\n",
    "    data.loc[np.logical_not(top_items), col] = 1\n",
    "    \n",
    "# Векторизация небинарных признаков\n",
    "data_nonbinary = pd.get_dummies(data.loc[:, data.notnull().any(axis = 0)])\n",
    "\n",
    "# Нормализация количественных признаков\n",
    "data_numerical = data[num_cols]\n",
    "data_numerical = \\\n",
    "    (data_numerical - data_numerical.mean()) / data_numerical.std()\n",
    "\n",
    "# Слить в одну таблицу\n",
    "data = pd.concat((\n",
    "#     data_numerical,\n",
    "    data[binary_cols],\n",
    "    data_nonbinary,\n",
    "), axis=1)"
   ]
  },
  {
   "cell_type": "code",
   "execution_count": 64,
   "metadata": {},
   "outputs": [
    {
     "data": {
      "text/html": [
       "<div>\n",
       "<style scoped>\n",
       "    .dataframe tbody tr th:only-of-type {\n",
       "        vertical-align: middle;\n",
       "    }\n",
       "\n",
       "    .dataframe tbody tr th {\n",
       "        vertical-align: top;\n",
       "    }\n",
       "\n",
       "    .dataframe thead th {\n",
       "        text-align: right;\n",
       "    }\n",
       "</style>\n",
       "<table border=\"1\" class=\"dataframe\">\n",
       "  <thead>\n",
       "    <tr style=\"text-align: right;\">\n",
       "      <th></th>\n",
       "      <th>Posting Type</th>\n",
       "      <th>Full-Time/Part-Time indicator</th>\n",
       "      <th>Process Date</th>\n",
       "      <th>Posting Type</th>\n",
       "      <th># Of Positions</th>\n",
       "      <th>Full-Time/Part-Time indicator</th>\n",
       "      <th>Salary Range From</th>\n",
       "      <th>Salary Range To</th>\n",
       "      <th>Process Date</th>\n",
       "      <th>Agency_ADMIN FOR CHILDREN'S SVCS</th>\n",
       "      <th>...</th>\n",
       "      <th>Posting Updated_2019-03-07T00:00:00.000</th>\n",
       "      <th>Posting Updated_2019-03-08T00:00:00.000</th>\n",
       "      <th>Posting Updated_2019-03-09T00:00:00.000</th>\n",
       "      <th>Posting Updated_2019-03-11T00:00:00.000</th>\n",
       "      <th>Posting Updated_2019-03-12T00:00:00.000</th>\n",
       "      <th>Posting Updated_2019-03-13T00:00:00.000</th>\n",
       "      <th>Posting Updated_2019-03-14T00:00:00.000</th>\n",
       "      <th>Posting Updated_2019-03-15T00:00:00.000</th>\n",
       "      <th>Posting Updated_2019-03-16T00:00:00.000</th>\n",
       "      <th>Posting Updated_2019-03-18T00:00:00.000</th>\n",
       "    </tr>\n",
       "  </thead>\n",
       "  <tbody>\n",
       "    <tr>\n",
       "      <th>0</th>\n",
       "      <td>0</td>\n",
       "      <td>0</td>\n",
       "      <td>0</td>\n",
       "      <td>0</td>\n",
       "      <td>1</td>\n",
       "      <td>0</td>\n",
       "      <td>42405.00</td>\n",
       "      <td>65485.00</td>\n",
       "      <td>0</td>\n",
       "      <td>0</td>\n",
       "      <td>...</td>\n",
       "      <td>0</td>\n",
       "      <td>0</td>\n",
       "      <td>0</td>\n",
       "      <td>0</td>\n",
       "      <td>0</td>\n",
       "      <td>0</td>\n",
       "      <td>0</td>\n",
       "      <td>0</td>\n",
       "      <td>0</td>\n",
       "      <td>0</td>\n",
       "    </tr>\n",
       "    <tr>\n",
       "      <th>1</th>\n",
       "      <td>0</td>\n",
       "      <td>0</td>\n",
       "      <td>0</td>\n",
       "      <td>0</td>\n",
       "      <td>1</td>\n",
       "      <td>0</td>\n",
       "      <td>60740.00</td>\n",
       "      <td>162014.00</td>\n",
       "      <td>0</td>\n",
       "      <td>0</td>\n",
       "      <td>...</td>\n",
       "      <td>0</td>\n",
       "      <td>0</td>\n",
       "      <td>0</td>\n",
       "      <td>0</td>\n",
       "      <td>0</td>\n",
       "      <td>0</td>\n",
       "      <td>0</td>\n",
       "      <td>0</td>\n",
       "      <td>0</td>\n",
       "      <td>0</td>\n",
       "    </tr>\n",
       "    <tr>\n",
       "      <th>2</th>\n",
       "      <td>1</td>\n",
       "      <td>0</td>\n",
       "      <td>0</td>\n",
       "      <td>1</td>\n",
       "      <td>52</td>\n",
       "      <td>0</td>\n",
       "      <td>51907.68</td>\n",
       "      <td>54580.32</td>\n",
       "      <td>0</td>\n",
       "      <td>0</td>\n",
       "      <td>...</td>\n",
       "      <td>0</td>\n",
       "      <td>0</td>\n",
       "      <td>0</td>\n",
       "      <td>0</td>\n",
       "      <td>0</td>\n",
       "      <td>0</td>\n",
       "      <td>0</td>\n",
       "      <td>0</td>\n",
       "      <td>0</td>\n",
       "      <td>0</td>\n",
       "    </tr>\n",
       "    <tr>\n",
       "      <th>3</th>\n",
       "      <td>0</td>\n",
       "      <td>0</td>\n",
       "      <td>0</td>\n",
       "      <td>0</td>\n",
       "      <td>52</td>\n",
       "      <td>0</td>\n",
       "      <td>51907.68</td>\n",
       "      <td>54580.32</td>\n",
       "      <td>0</td>\n",
       "      <td>0</td>\n",
       "      <td>...</td>\n",
       "      <td>0</td>\n",
       "      <td>0</td>\n",
       "      <td>0</td>\n",
       "      <td>0</td>\n",
       "      <td>0</td>\n",
       "      <td>0</td>\n",
       "      <td>0</td>\n",
       "      <td>0</td>\n",
       "      <td>0</td>\n",
       "      <td>0</td>\n",
       "    </tr>\n",
       "    <tr>\n",
       "      <th>4</th>\n",
       "      <td>0</td>\n",
       "      <td>0</td>\n",
       "      <td>0</td>\n",
       "      <td>0</td>\n",
       "      <td>50</td>\n",
       "      <td>0</td>\n",
       "      <td>35.00</td>\n",
       "      <td>35.00</td>\n",
       "      <td>0</td>\n",
       "      <td>0</td>\n",
       "      <td>...</td>\n",
       "      <td>0</td>\n",
       "      <td>0</td>\n",
       "      <td>0</td>\n",
       "      <td>0</td>\n",
       "      <td>0</td>\n",
       "      <td>0</td>\n",
       "      <td>0</td>\n",
       "      <td>0</td>\n",
       "      <td>0</td>\n",
       "      <td>0</td>\n",
       "    </tr>\n",
       "  </tbody>\n",
       "</table>\n",
       "<p>5 rows × 4358 columns</p>\n",
       "</div>"
      ],
      "text/plain": [
       "   Posting Type  Full-Time/Part-Time indicator  Process Date  Posting Type  \\\n",
       "0             0                              0             0             0   \n",
       "1             0                              0             0             0   \n",
       "2             1                              0             0             1   \n",
       "3             0                              0             0             0   \n",
       "4             0                              0             0             0   \n",
       "\n",
       "   # Of Positions  Full-Time/Part-Time indicator  Salary Range From  \\\n",
       "0               1                              0           42405.00   \n",
       "1               1                              0           60740.00   \n",
       "2              52                              0           51907.68   \n",
       "3              52                              0           51907.68   \n",
       "4              50                              0              35.00   \n",
       "\n",
       "   Salary Range To  Process Date  Agency_ADMIN FOR CHILDREN'S SVCS  ...  \\\n",
       "0         65485.00             0                                 0  ...   \n",
       "1        162014.00             0                                 0  ...   \n",
       "2         54580.32             0                                 0  ...   \n",
       "3         54580.32             0                                 0  ...   \n",
       "4            35.00             0                                 0  ...   \n",
       "\n",
       "   Posting Updated_2019-03-07T00:00:00.000  \\\n",
       "0                                        0   \n",
       "1                                        0   \n",
       "2                                        0   \n",
       "3                                        0   \n",
       "4                                        0   \n",
       "\n",
       "   Posting Updated_2019-03-08T00:00:00.000  \\\n",
       "0                                        0   \n",
       "1                                        0   \n",
       "2                                        0   \n",
       "3                                        0   \n",
       "4                                        0   \n",
       "\n",
       "   Posting Updated_2019-03-09T00:00:00.000  \\\n",
       "0                                        0   \n",
       "1                                        0   \n",
       "2                                        0   \n",
       "3                                        0   \n",
       "4                                        0   \n",
       "\n",
       "   Posting Updated_2019-03-11T00:00:00.000  \\\n",
       "0                                        0   \n",
       "1                                        0   \n",
       "2                                        0   \n",
       "3                                        0   \n",
       "4                                        0   \n",
       "\n",
       "   Posting Updated_2019-03-12T00:00:00.000  \\\n",
       "0                                        0   \n",
       "1                                        0   \n",
       "2                                        0   \n",
       "3                                        0   \n",
       "4                                        0   \n",
       "\n",
       "   Posting Updated_2019-03-13T00:00:00.000  \\\n",
       "0                                        0   \n",
       "1                                        0   \n",
       "2                                        0   \n",
       "3                                        0   \n",
       "4                                        0   \n",
       "\n",
       "   Posting Updated_2019-03-14T00:00:00.000  \\\n",
       "0                                        0   \n",
       "1                                        0   \n",
       "2                                        0   \n",
       "3                                        0   \n",
       "4                                        0   \n",
       "\n",
       "   Posting Updated_2019-03-15T00:00:00.000  \\\n",
       "0                                        0   \n",
       "1                                        0   \n",
       "2                                        0   \n",
       "3                                        0   \n",
       "4                                        0   \n",
       "\n",
       "   Posting Updated_2019-03-16T00:00:00.000  \\\n",
       "0                                        0   \n",
       "1                                        0   \n",
       "2                                        0   \n",
       "3                                        0   \n",
       "4                                        0   \n",
       "\n",
       "   Posting Updated_2019-03-18T00:00:00.000  \n",
       "0                                        0  \n",
       "1                                        0  \n",
       "2                                        0  \n",
       "3                                        0  \n",
       "4                                        0  \n",
       "\n",
       "[5 rows x 4358 columns]"
      ]
     },
     "execution_count": 64,
     "metadata": {},
     "output_type": "execute_result"
    }
   ],
   "source": [
    "data.head()"
   ]
  },
  {
   "cell_type": "markdown",
   "metadata": {},
   "source": [
    "## Масштабирование данных"
   ]
  },
  {
   "cell_type": "code",
   "execution_count": 65,
   "metadata": {},
   "outputs": [],
   "source": [
    "from sklearn.preprocessing import MinMaxScaler, StandardScaler, Normalizer"
   ]
  },
  {
   "cell_type": "code",
   "execution_count": 66,
   "metadata": {},
   "outputs": [],
   "source": [
    "sc1 = MinMaxScaler()\n",
    "sc1_data = sc1.fit_transform(data[['Salary Range From']])"
   ]
  },
  {
   "cell_type": "code",
   "execution_count": 70,
   "metadata": {},
   "outputs": [
    {
     "data": {
      "image/png": "[encoded data removed]",
      "text/plain": [
       "<Figure size 432x288 with 1 Axes>"
      ]
     },
     "metadata": {},
     "output_type": "display_data"
    }
   ],
   "source": [
    "plt.hist(data['Salary Range From'], 50)\n",
    "plt.show()"
   ]
  },
  {
   "cell_type": "code",
   "execution_count": 71,
   "metadata": {},
   "outputs": [
    {
     "data": {
      "image/png": "[encoded data removed]",
      "text/plain": [
       "<Figure size 432x288 with 1 Axes>"
      ]
     },
     "metadata": {},
     "output_type": "display_data"
    }
   ],
   "source": [
    "plt.hist(sc1_data, 50)\n",
    "plt.show()"
   ]
  },
  {
   "cell_type": "code",
   "execution_count": null,
   "metadata": {},
   "outputs": [],
   "source": []
  }
 ],
 "metadata": {
  "kernelspec": {
   "display_name": "Python 3",
   "language": "python",
   "name": "python3"
  },
  "language_info": {
   "codemirror_mode": {
    "name": "ipython",
    "version": 3
   },
   "file_extension": ".py",
   "mimetype": "text/x-python",
   "name": "python",
   "nbconvert_exporter": "python",
   "pygments_lexer": "ipython3",
   "version": "3.6.7"
  }
 },
 "nbformat": 4,
 "nbformat_minor": 2
}
